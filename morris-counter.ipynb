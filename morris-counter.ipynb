{
 "cells": [
  {
   "cell_type": "markdown",
   "metadata": {},
   "source": [
    "# Morris Counter"
   ]
  },
  {
   "cell_type": "code",
   "execution_count": 1,
   "metadata": {},
   "outputs": [],
   "source": [
    "import math\n",
    "import numpy as np\n",
    "import matplotlib.pyplot as plt"
   ]
  },
  {
   "cell_type": "code",
   "execution_count": 2,
   "metadata": {},
   "outputs": [],
   "source": [
    "import math\n",
    "import numpy as np\n",
    "\n",
    "def get_val(v):\n",
    "    return (math.e ** (math.log(2) * v)) - 1\n",
    "\n",
    "\n",
    "class MorrisCounter:\n",
    "    def __init__(self):\n",
    "        self.v = 0\n",
    "        \n",
    "    def inc(self) -> int:\n",
    "        d = 1 / (get_val(self.v + 1) - get_val(self.v))\n",
    "        r = np.random.uniform(0, 1)\n",
    "        if r < d:\n",
    "            self.v += 1\n",
    "        return self.v\n",
    "\n",
    "    def value(self) -> int:\n",
    "        return get_val(self.v)"
   ]
  },
  {
   "cell_type": "code",
   "execution_count": 3,
   "metadata": {},
   "outputs": [],
   "source": [
    "MAX_COUNT = 1025"
   ]
  },
  {
   "cell_type": "code",
   "execution_count": 4,
   "metadata": {},
   "outputs": [],
   "source": [
    "items = []\n",
    "counter = MorrisCounter()\n",
    "for i in range(MAX_COUNT):\n",
    "    n = i\n",
    "    counter.inc()\n",
    "    items.append((n, counter.value()))"
   ]
  },
  {
   "cell_type": "code",
   "execution_count": 5,
   "metadata": {},
   "outputs": [
    {
     "data": {
      "image/png": "[encoded data removed]",
      "text/plain": [
       "<Figure size 432x288 with 1 Axes>"
      ]
     },
     "metadata": {
      "needs_background": "light"
     },
     "output_type": "display_data"
    }
   ],
   "source": [
    "plt.plot(list(range(MAX_COUNT)), [x[0] for x in items], label = \"n\")\n",
    "plt.plot(list(range(MAX_COUNT)), [x[1] for x in items], label = \"v\")\n",
    "plt.xlabel('')\n",
    "plt.ylabel('count')\n",
    "plt.legend()\n",
    "plt.show()"
   ]
  }
 ],
 "metadata": {
  "kernelspec": {
   "display_name": "Python 3",
   "language": "python",
   "name": "python3"
  },
  "language_info": {
   "codemirror_mode": {
    "name": "ipython",
    "version": 3
   },
   "file_extension": ".py",
   "mimetype": "text/x-python",
   "name": "python",
   "nbconvert_exporter": "python",
   "pygments_lexer": "ipython3",
   "version": "3.7.6"
  }
 },
 "nbformat": 4,
 "nbformat_minor": 4
}
